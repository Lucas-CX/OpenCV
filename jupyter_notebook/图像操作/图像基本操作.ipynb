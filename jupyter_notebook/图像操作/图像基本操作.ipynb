{
 "cells": [
  {
   "cell_type": "markdown",
   "metadata": {},
   "source": [
    "## 图像基本操作"
   ]
  },
  {
   "cell_type": "markdown",
   "metadata": {},
   "source": [
    "#### 环境配置地址：\n",
    "\n",
    "- Anaconda:https://www.anaconda.com/download/\n",
    "\n",
    "- Python_whl:https://www.lfd.uci.edu/~gohlke/pythonlibs/#opencv\n",
    "\n",
    "- eclipse:按照自己的喜好，选择一个能debug就好"
   ]
  },
  {
   "cell_type": "markdown",
   "metadata": {},
   "source": [
    "![title](image/lena_img.png)"
   ]
  },
  {
   "cell_type": "markdown",
   "metadata": {},
   "source": [
    "### 数据读取-图像"
   ]
  },
  {
   "cell_type": "markdown",
   "metadata": {},
   "source": [
    "- cv2.IMREAD_COLOR：彩色图像\n",
    "- cv2.IMREAD_GRAYSCALE：灰度图像"
   ]
  },
  {
   "cell_type": "code",
   "execution_count": 1,
   "metadata": {},
   "outputs": [],
   "source": [
    "import cv2 #opencv读取的格式是BGR\n",
    "import matplotlib.pyplot as plt\n",
    "import numpy as np \n",
    "%matplotlib inline \n",
    "\n",
    "img=cv2.imread('image/cat.jpg')"
   ]
  },
  {
   "cell_type": "code",
   "execution_count": 2,
   "metadata": {},
   "outputs": [
    {
     "data": {
      "text/plain": [
       "array([[[142, 151, 160],\n",
       "        [146, 155, 164],\n",
       "        [151, 160, 169],\n",
       "        ...,\n",
       "        [156, 172, 185],\n",
       "        [155, 171, 184],\n",
       "        [154, 170, 183]],\n",
       "\n",
       "       [[107, 118, 126],\n",
       "        [112, 123, 131],\n",
       "        [117, 128, 136],\n",
       "        ...,\n",
       "        [155, 171, 184],\n",
       "        [154, 170, 183],\n",
       "        [153, 169, 182]],\n",
       "\n",
       "       [[108, 119, 127],\n",
       "        [112, 123, 131],\n",
       "        [118, 129, 137],\n",
       "        ...,\n",
       "        [154, 170, 183],\n",
       "        [153, 169, 182],\n",
       "        [152, 168, 181]],\n",
       "\n",
       "       ...,\n",
       "\n",
       "       [[162, 186, 198],\n",
       "        [157, 181, 193],\n",
       "        [142, 166, 178],\n",
       "        ...,\n",
       "        [181, 204, 206],\n",
       "        [170, 193, 195],\n",
       "        [149, 172, 174]],\n",
       "\n",
       "       [[140, 164, 176],\n",
       "        [147, 171, 183],\n",
       "        [139, 163, 175],\n",
       "        ...,\n",
       "        [167, 187, 188],\n",
       "        [123, 143, 144],\n",
       "        [104, 124, 125]],\n",
       "\n",
       "       [[154, 178, 190],\n",
       "        [154, 178, 190],\n",
       "        [121, 145, 157],\n",
       "        ...,\n",
       "        [185, 198, 200],\n",
       "        [130, 143, 145],\n",
       "        [129, 142, 144]]], dtype=uint8)"
      ]
     },
     "execution_count": 2,
     "metadata": {},
     "output_type": "execute_result"
    }
   ],
   "source": [
    "img"
   ]
  },
  {
   "cell_type": "code",
   "execution_count": 3,
   "metadata": {},
   "outputs": [],
   "source": [
    "#图像的显示,也可以创建多个窗口\n",
    "cv2.imshow('image',img) \n",
    "# 等待时间，毫秒级，0表示任意键终止\n",
    "cv2.waitKey(0) \n",
    "cv2.destroyAllWindows()"
   ]
  },
  {
   "cell_type": "code",
   "execution_count": 4,
   "metadata": {},
   "outputs": [],
   "source": [
    "def cv_show(name,img):\n",
    "    cv2.imshow(name,img)      \n",
    "    cv2.waitKey(0) \n",
    "    cv2.destroyAllWindows()"
   ]
  },
  {
   "cell_type": "code",
   "execution_count": 5,
   "metadata": {},
   "outputs": [
    {
     "data": {
      "text/plain": [
       "(414, 500, 3)"
      ]
     },
     "execution_count": 5,
     "metadata": {},
     "output_type": "execute_result"
    }
   ],
   "source": [
    "img.shape"
   ]
  },
  {
   "cell_type": "code",
   "execution_count": 6,
   "metadata": {},
   "outputs": [
    {
     "data": {
      "text/plain": [
       "array([[153, 157, 162, ..., 174, 173, 172],\n",
       "       [119, 124, 129, ..., 173, 172, 171],\n",
       "       [120, 124, 130, ..., 172, 171, 170],\n",
       "       ...,\n",
       "       [187, 182, 167, ..., 202, 191, 170],\n",
       "       [165, 172, 164, ..., 185, 141, 122],\n",
       "       [179, 179, 146, ..., 197, 142, 141]], dtype=uint8)"
      ]
     },
     "execution_count": 6,
     "metadata": {},
     "output_type": "execute_result"
    }
   ],
   "source": [
    "img=cv2.imread('image/cat.jpg',cv2.IMREAD_GRAYSCALE)\n",
    "img"
   ]
  },
  {
   "cell_type": "code",
   "execution_count": 7,
   "metadata": {},
   "outputs": [
    {
     "data": {
      "text/plain": [
       "(414, 500)"
      ]
     },
     "execution_count": 7,
     "metadata": {},
     "output_type": "execute_result"
    }
   ],
   "source": [
    "img.shape"
   ]
  },
  {
   "cell_type": "code",
   "execution_count": 8,
   "metadata": {},
   "outputs": [],
   "source": [
    "#图像的显示,也可以创建多个窗口\n",
    "cv2.imshow('image',img) \n",
    "# 等待时间，毫秒级，0表示任意键终止\n",
    "cv2.waitKey(10000) \n",
    "cv2.destroyAllWindows()"
   ]
  },
  {
   "cell_type": "code",
   "execution_count": 9,
   "metadata": {},
   "outputs": [
    {
     "data": {
      "text/plain": [
       "True"
      ]
     },
     "execution_count": 9,
     "metadata": {},
     "output_type": "execute_result"
    }
   ],
   "source": [
    "#保存\n",
    "cv2.imwrite('image/mycat.png',img)"
   ]
  },
  {
   "cell_type": "code",
   "execution_count": 10,
   "metadata": {},
   "outputs": [
    {
     "data": {
      "text/plain": [
       "numpy.ndarray"
      ]
     },
     "execution_count": 10,
     "metadata": {},
     "output_type": "execute_result"
    }
   ],
   "source": [
    "type(img)"
   ]
  },
  {
   "cell_type": "code",
   "execution_count": 11,
   "metadata": {},
   "outputs": [
    {
     "data": {
      "text/plain": [
       "207000"
      ]
     },
     "execution_count": 11,
     "metadata": {},
     "output_type": "execute_result"
    }
   ],
   "source": [
    "img.size"
   ]
  },
  {
   "cell_type": "code",
   "execution_count": 12,
   "metadata": {},
   "outputs": [
    {
     "data": {
      "text/plain": [
       "dtype('uint8')"
      ]
     },
     "execution_count": 12,
     "metadata": {},
     "output_type": "execute_result"
    }
   ],
   "source": [
    "img.dtype"
   ]
  },
  {
   "cell_type": "markdown",
   "metadata": {},
   "source": [
    "### 数据读取-视频"
   ]
  },
  {
   "cell_type": "markdown",
   "metadata": {},
   "source": [
    "- cv2.VideoCapture可以捕获摄像头，用数字来控制不同的设备，例如0,1。\n",
    "- 如果是视频文件，直接指定好路径即可。"
   ]
  },
  {
   "cell_type": "code",
   "execution_count": 13,
   "metadata": {},
   "outputs": [],
   "source": [
    "vc = cv2.VideoCapture('image/test.mp4')"
   ]
  },
  {
   "cell_type": "code",
   "execution_count": 14,
   "metadata": {},
   "outputs": [
    {
     "name": "stdout",
     "output_type": "stream",
     "text": [
      "True [[[189 179 174]\n",
      "  [189 179 174]\n",
      "  [189 179 174]\n",
      "  ...\n",
      "  [220 213 210]\n",
      "  [220 213 210]\n",
      "  [220 213 210]]\n",
      "\n",
      " [[189 179 174]\n",
      "  [189 179 174]\n",
      "  [189 179 174]\n",
      "  ...\n",
      "  [220 213 210]\n",
      "  [220 213 210]\n",
      "  [220 213 210]]\n",
      "\n",
      " [[189 179 174]\n",
      "  [189 179 174]\n",
      "  [189 179 174]\n",
      "  ...\n",
      "  [220 213 210]\n",
      "  [220 213 210]\n",
      "  [220 213 210]]\n",
      "\n",
      " ...\n",
      "\n",
      " [[  8  16  13]\n",
      "  [  8  16  13]\n",
      "  [  8  16  13]\n",
      "  ...\n",
      "  [ 73  70  69]\n",
      "  [ 73  70  69]\n",
      "  [ 73  70  69]]\n",
      "\n",
      " [[  8  16  13]\n",
      "  [  8  16  13]\n",
      "  [  8  16  13]\n",
      "  ...\n",
      "  [ 73  70  69]\n",
      "  [ 73  70  69]\n",
      "  [ 73  70  69]]\n",
      "\n",
      " [[  8  16  13]\n",
      "  [  8  16  13]\n",
      "  [  8  16  13]\n",
      "  ...\n",
      "  [ 73  70  69]\n",
      "  [ 73  70  69]\n",
      "  [ 73  70  69]]]\n",
      "True\n"
     ]
    }
   ],
   "source": [
    "# 检查是否打开正确\n",
    "if vc.isOpened(): \n",
    "    # open 貌似是一个关键字所以这里就用了oepn\n",
    "    oepn , frame = vc.read()   \n",
    "    print(oepn,frame)\n",
    "else:\n",
    "    oepn = False\n",
    "print(oepn)"
   ]
  },
  {
   "cell_type": "code",
   "execution_count": 15,
   "metadata": {},
   "outputs": [],
   "source": [
    "while oepn:\n",
    "    ret, frame = vc.read()\n",
    "    if frame is None:\n",
    "        break\n",
    "    if ret == True:\n",
    "        gray = cv2.cvtColor(frame,  cv2.COLOR_BGR2GRAY)\n",
    "        cv2.imshow('result', gray)\n",
    "        if cv2.waitKey(100) & 0xFF == 27:\n",
    "            break\n",
    "vc.release()  # 释放摄像头\n",
    "cv2.destroyAllWindows()"
   ]
  },
  {
   "cell_type": "markdown",
   "metadata": {},
   "source": [
    "### 截取部分图像数据"
   ]
  },
  {
   "cell_type": "code",
   "execution_count": 16,
   "metadata": {},
   "outputs": [],
   "source": [
    "img=cv2.imread('image/cat.jpg')\n",
    "cat=img[0:50,0:200] \n",
    "cv_show('cat',cat)"
   ]
  },
  {
   "cell_type": "markdown",
   "metadata": {},
   "source": [
    "### 颜色通道提取"
   ]
  },
  {
   "cell_type": "code",
   "execution_count": 17,
   "metadata": {},
   "outputs": [],
   "source": [
    "b,g,r=cv2.split(img)"
   ]
  },
  {
   "cell_type": "code",
   "execution_count": 18,
   "metadata": {},
   "outputs": [
    {
     "data": {
      "text/plain": [
       "array([[160, 164, 169, ..., 185, 184, 183],\n",
       "       [126, 131, 136, ..., 184, 183, 182],\n",
       "       [127, 131, 137, ..., 183, 182, 181],\n",
       "       ...,\n",
       "       [198, 193, 178, ..., 206, 195, 174],\n",
       "       [176, 183, 175, ..., 188, 144, 125],\n",
       "       [190, 190, 157, ..., 200, 145, 144]], dtype=uint8)"
      ]
     },
     "execution_count": 18,
     "metadata": {},
     "output_type": "execute_result"
    }
   ],
   "source": [
    "r"
   ]
  },
  {
   "cell_type": "code",
   "execution_count": 19,
   "metadata": {},
   "outputs": [
    {
     "data": {
      "text/plain": [
       "(414, 500)"
      ]
     },
     "execution_count": 19,
     "metadata": {},
     "output_type": "execute_result"
    }
   ],
   "source": [
    "r.shape"
   ]
  },
  {
   "cell_type": "code",
   "execution_count": 20,
   "metadata": {},
   "outputs": [
    {
     "data": {
      "text/plain": [
       "(414, 500, 3)"
      ]
     },
     "execution_count": 20,
     "metadata": {},
     "output_type": "execute_result"
    }
   ],
   "source": [
    "img=cv2.merge((b,g,r))\n",
    "img.shape"
   ]
  },
  {
   "cell_type": "code",
   "execution_count": 21,
   "metadata": {},
   "outputs": [],
   "source": [
    "# 只保留R\n",
    "cur_img = img.copy()\n",
    "cur_img[:,:,0] = 0\n",
    "cur_img[:,:,1] = 0\n",
    "cv_show('R',cur_img)\n",
    "\n"
   ]
  },
  {
   "cell_type": "code",
   "execution_count": 22,
   "metadata": {},
   "outputs": [],
   "source": [
    "# 只保留G\n",
    "cur_img = img.copy()\n",
    "cur_img[:,:,0] = 0\n",
    "cur_img[:,:,2] = 0\n",
    "cv_show('G',cur_img)"
   ]
  },
  {
   "cell_type": "code",
   "execution_count": 23,
   "metadata": {},
   "outputs": [],
   "source": [
    "# 只保留B\n",
    "cur_img = img.copy()\n",
    "cur_img[:,:,1] = 0\n",
    "cur_img[:,:,2] = 0\n",
    "cv_show('B',cur_img)"
   ]
  },
  {
   "cell_type": "markdown",
   "metadata": {},
   "source": [
    "### 边界填充"
   ]
  },
  {
   "cell_type": "code",
   "execution_count": 24,
   "metadata": {},
   "outputs": [],
   "source": [
    "top_size,bottom_size,left_size,right_size = (50,50,50,50)\n",
    "\n",
    "replicate = cv2.copyMakeBorder(img, top_size, bottom_size, left_size, right_size, borderType=cv2.BORDER_REPLICATE)\n",
    "reflect = cv2.copyMakeBorder(img, top_size, bottom_size, left_size, right_size,cv2.BORDER_REFLECT)\n",
    "reflect101 = cv2.copyMakeBorder(img, top_size, bottom_size, left_size, right_size, cv2.BORDER_REFLECT_101)\n",
    "wrap = cv2.copyMakeBorder(img, top_size, bottom_size, left_size, right_size, cv2.BORDER_WRAP)\n",
    "constant = cv2.copyMakeBorder(img, top_size, bottom_size, left_size, right_size,cv2.BORDER_CONSTANT, value=0)"
   ]
  },
  {
   "cell_type": "code",
   "execution_count": 25,
   "metadata": {},
   "outputs": [
    {
     "data": {
      "image/png": "[encoded data removed]",
      "text/plain": [
       "<Figure size 432x288 with 6 Axes>"
      ]
     },
     "metadata": {
      "needs_background": "light"
     },
     "output_type": "display_data"
    }
   ],
   "source": [
    "import matplotlib.pyplot as plt\n",
    "plt.subplot(231), plt.imshow(img, 'gray'), plt.title('ORIGINAL')\n",
    "plt.subplot(232), plt.imshow(replicate, 'gray'), plt.title('REPLICATE')\n",
    "plt.subplot(233), plt.imshow(reflect, 'gray'), plt.title('REFLECT')\n",
    "plt.subplot(234), plt.imshow(reflect101, 'gray'), plt.title('REFLECT_101')\n",
    "plt.subplot(235), plt.imshow(wrap, 'gray'), plt.title('WRAP')\n",
    "plt.subplot(236), plt.imshow(constant, 'gray'), plt.title('CONSTANT')\n",
    "\n",
    "plt.show()"
   ]
  },
  {
   "cell_type": "markdown",
   "metadata": {},
   "source": [
    "- top, bottom, left, right 对应边界的像素数目。\n",
    "- BORDER_REPLICATE：复制法，也就是复制最边缘像素。\n",
    "- BORDER_REFLECT：反射法，对感兴趣的图像中的像素在两边进行复制例如：fedcba|abcdefgh|hgfedcb   \n",
    "- BORDER_REFLECT_101：反射法，也就是以最边缘像素为轴，对称，gfedcb|abcdefgh|gfedcba\n",
    "- BORDER_WRAP：外包装法cdefgh|abcdefgh|abcdefg  \n",
    "- BORDER_CONSTANT：常量法，常数值填充。"
   ]
  },
  {
   "cell_type": "markdown",
   "metadata": {},
   "source": [
    "### 数值计算"
   ]
  },
  {
   "cell_type": "code",
   "execution_count": 26,
   "metadata": {},
   "outputs": [],
   "source": [
    "img_cat=cv2.imread('image/cat.jpg')\n",
    "img_dog=cv2.imread('image/dog.jpg')"
   ]
  },
  {
   "cell_type": "code",
   "execution_count": 27,
   "metadata": {},
   "outputs": [
    {
     "data": {
      "text/plain": [
       "array([[142, 146, 151, ..., 156, 155, 154],\n",
       "       [107, 112, 117, ..., 155, 154, 153],\n",
       "       [108, 112, 118, ..., 154, 153, 152],\n",
       "       [139, 143, 148, ..., 156, 155, 154],\n",
       "       [153, 158, 163, ..., 160, 159, 158]], dtype=uint8)"
      ]
     },
     "execution_count": 27,
     "metadata": {},
     "output_type": "execute_result"
    }
   ],
   "source": [
    "img_cat2= img_cat +10 \n",
    "img_cat[:5,:,0]"
   ]
  },
  {
   "cell_type": "code",
   "execution_count": 28,
   "metadata": {},
   "outputs": [
    {
     "data": {
      "text/plain": [
       "array([[152, 156, 161, ..., 166, 165, 164],\n",
       "       [117, 122, 127, ..., 165, 164, 163],\n",
       "       [118, 122, 128, ..., 164, 163, 162],\n",
       "       [149, 153, 158, ..., 166, 165, 164],\n",
       "       [163, 168, 173, ..., 170, 169, 168]], dtype=uint8)"
      ]
     },
     "execution_count": 28,
     "metadata": {},
     "output_type": "execute_result"
    }
   ],
   "source": [
    "img_cat2[:5,:,0]"
   ]
  },
  {
   "cell_type": "code",
   "execution_count": 29,
   "metadata": {},
   "outputs": [
    {
     "data": {
      "text/plain": [
       "array([[ 38,  46,  56, ...,  66,  64,  62],\n",
       "       [224, 234, 244, ...,  64,  62,  60],\n",
       "       [226, 234, 246, ...,  62,  60,  58],\n",
       "       [ 32,  40,  50, ...,  66,  64,  62],\n",
       "       [ 60,  70,  80, ...,  74,  72,  70]], dtype=uint8)"
      ]
     },
     "execution_count": 29,
     "metadata": {},
     "output_type": "execute_result"
    }
   ],
   "source": [
    "#相当于% 256\n",
    "(img_cat + img_cat2)[:5,:,0] "
   ]
  },
  {
   "cell_type": "code",
   "execution_count": 30,
   "metadata": {},
   "outputs": [
    {
     "data": {
      "text/plain": [
       "array([[255, 255, 255, ..., 255, 255, 255],\n",
       "       [224, 234, 244, ..., 255, 255, 255],\n",
       "       [226, 234, 246, ..., 255, 255, 255],\n",
       "       [255, 255, 255, ..., 255, 255, 255],\n",
       "       [255, 255, 255, ..., 255, 255, 255]], dtype=uint8)"
      ]
     },
     "execution_count": 30,
     "metadata": {},
     "output_type": "execute_result"
    }
   ],
   "source": [
    "cv2.add(img_cat,img_cat2)[:5,:,0]"
   ]
  },
  {
   "cell_type": "markdown",
   "metadata": {},
   "source": [
    "### 图像融合"
   ]
  },
  {
   "cell_type": "code",
   "execution_count": 31,
   "metadata": {},
   "outputs": [
    {
     "ename": "ValueError",
     "evalue": "operands could not be broadcast together with shapes (414,500,3) (429,499,3) ",
     "output_type": "error",
     "traceback": [
      "\u001b[1;31m---------------------------------------------------------------------------\u001b[0m",
      "\u001b[1;31mValueError\u001b[0m                                Traceback (most recent call last)",
      "\u001b[1;32m<ipython-input-31-e8802e660946>\u001b[0m in \u001b[0;36m<module>\u001b[1;34m\u001b[0m\n\u001b[1;32m----> 1\u001b[1;33m \u001b[0mimg_cat\u001b[0m \u001b[1;33m+\u001b[0m \u001b[0mimg_dog\u001b[0m\u001b[1;33m\u001b[0m\u001b[1;33m\u001b[0m\u001b[0m\n\u001b[0m",
      "\u001b[1;31mValueError\u001b[0m: operands could not be broadcast together with shapes (414,500,3) (429,499,3) "
     ]
    }
   ],
   "source": [
    "img_cat + img_dog"
   ]
  },
  {
   "cell_type": "code",
   "execution_count": null,
   "metadata": {},
   "outputs": [],
   "source": [
    "img_cat.shape"
   ]
  },
  {
   "cell_type": "code",
   "execution_count": null,
   "metadata": {},
   "outputs": [],
   "source": [
    "img_dog = cv2.resize(img_dog, (500, 414)) # x,y\n",
    "img_dog.shape"
   ]
  },
  {
   "cell_type": "code",
   "execution_count": null,
   "metadata": {},
   "outputs": [],
   "source": [
    "res = cv2.addWeighted(img_cat, 0.4, img_dog, 0.6, 0)"
   ]
  },
  {
   "cell_type": "code",
   "execution_count": null,
   "metadata": {},
   "outputs": [],
   "source": [
    "plt.imshow(res)"
   ]
  },
  {
   "cell_type": "code",
   "execution_count": null,
   "metadata": {},
   "outputs": [],
   "source": [
    "res = cv2.resize(img, (0, 0), fx=4, fy=4)\n",
    "plt.imshow(res)"
   ]
  },
  {
   "cell_type": "code",
   "execution_count": null,
   "metadata": {},
   "outputs": [],
   "source": [
    "res = cv2.resize(img, (0, 0), fx=1, fy=3)\n",
    "plt.imshow(res)"
   ]
  },
  {
   "cell_type": "code",
   "execution_count": null,
   "metadata": {},
   "outputs": [],
   "source": []
  },
  {
   "cell_type": "code",
   "execution_count": null,
   "metadata": {},
   "outputs": [],
   "source": []
  },
  {
   "cell_type": "code",
   "execution_count": null,
   "metadata": {},
   "outputs": [],
   "source": []
  }
 ],
 "metadata": {
  "kernelspec": {
   "display_name": "python36",
   "language": "python",
   "name": "python36"
  },
  "language_info": {
   "codemirror_mode": {
    "name": "ipython",
    "version": 3
   },
   "file_extension": ".py",
   "mimetype": "text/x-python",
   "name": "python",
   "nbconvert_exporter": "python",
   "pygments_lexer": "ipython3",
   "version": "3.6.10"
  }
 },
 "nbformat": 4,
 "nbformat_minor": 2
}
